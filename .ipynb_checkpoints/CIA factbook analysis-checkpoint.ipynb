{
 "cells": [
  {
   "cell_type": "markdown",
   "id": "dbe087a2-623f-46c4-8a57-84b7e6a633ea",
   "metadata": {},
   "source": [
    "# Let's get SQLical!"
   ]
  },
  {
   "cell_type": "markdown",
   "id": "74406ace-88d0-444c-86b8-b1324146beeb",
   "metadata": {},
   "source": [
    "In this project, we use SQL to analyze some data from the CIA Factbook. The CIA Factbook is a compendium of countries and some of their attributes, for example: population, land area, birth rate, death rate, migration rate, etc. We use this dataset to answer a couple of questions, including the following:\n",
    "- What is the minimum and maximum population and population growth?\n",
    "- What countries are most densely populated?\n",
    "- Which countries have the highest ratio of water to land?\n",
    "- What countries are at risk of overpopulation? What about underpopulation?\n",
    "\n",
    "This dataset catalogs contries according to some attributes, including:\n",
    "\n",
    "|Column name|Description|\n",
    "|---|---|\n",
    "|code|Two letter code used to abbreviate country names|\n",
    "|name|The names of the countries in question|\n",
    "|area|The area of the country (not sure what unit it's in)|\n",
    "|area_land|The area of the country comprised of land|\n",
    "|area_water|The area of the country comprised of water|\n",
    "|population|The population of the country|\n",
    "|population_growth|The country's annual population growth rate|\n",
    "|birth_rate|number of births per 1000 people in the population, annually|\n",
    "|death_rate|number of deaths per 1000 people in the population, annually|\n",
    "|migration_rate|number of migrations (net emigrations vs immigrations) per 1000 people|"
   ]
  },
  {
   "cell_type": "markdown",
   "id": "a88d30f6-60de-45b4-ae17-212415d9530b",
   "metadata": {},
   "source": [
    "This project is largely exploratory, without a specific objective."
   ]
  },
  {
   "cell_type": "markdown",
   "id": "0591e942-8abf-4d29-9d54-c5784a31ef32",
   "metadata": {},
   "source": [
    "## 1. Data Overview"
   ]
  },
  {
   "cell_type": "markdown",
   "id": "26aa7913-b4be-4bcc-a678-6ac3520e5685",
   "metadata": {},
   "source": [
    "First let's load SQL into our notebook"
   ]
  },
  {
   "cell_type": "code",
   "execution_count": 129,
   "id": "eda3faff-4fce-437c-a426-5c23e343bd41",
   "metadata": {},
   "outputs": [],
   "source": [
    "%%capture\n",
    "%load_ext sql\n",
    "%sql sqlite:///factbook.db"
   ]
  },
  {
   "cell_type": "markdown",
   "id": "689fc301-eff2-4060-aa6c-b919dda104f3",
   "metadata": {},
   "source": [
    "Let's now examine the contents of factbook.db (the database we'll be using in this project)."
   ]
  },
  {
   "cell_type": "code",
   "execution_count": 130,
   "id": "6a8434a6-10fb-46ed-82b6-c21101007818",
   "metadata": {},
   "outputs": [
    {
     "name": "stdout",
     "output_type": "stream",
     "text": [
      " * sqlite:///factbook.db\n",
      "Done.\n"
     ]
    },
    {
     "data": {
      "text/html": [
       "<table>\n",
       "    <tr>\n",
       "        <th>type</th>\n",
       "        <th>name</th>\n",
       "        <th>tbl_name</th>\n",
       "        <th>rootpage</th>\n",
       "        <th>sql</th>\n",
       "    </tr>\n",
       "    <tr>\n",
       "        <td>table</td>\n",
       "        <td>sqlite_sequence</td>\n",
       "        <td>sqlite_sequence</td>\n",
       "        <td>3</td>\n",
       "        <td>CREATE TABLE sqlite_sequence(name,seq)</td>\n",
       "    </tr>\n",
       "    <tr>\n",
       "        <td>table</td>\n",
       "        <td>facts</td>\n",
       "        <td>facts</td>\n",
       "        <td>47</td>\n",
       "        <td>CREATE TABLE &quot;facts&quot; (&quot;id&quot; INTEGER PRIMARY KEY AUTOINCREMENT NOT NULL, &quot;code&quot; varchar(255) NOT NULL, &quot;name&quot; varchar(255) NOT NULL, &quot;area&quot; integer, &quot;area_land&quot; integer, &quot;area_water&quot; integer, &quot;population&quot; integer, &quot;population_growth&quot; float, &quot;birth_rate&quot; float, &quot;death_rate&quot; float, &quot;migration_rate&quot; float)</td>\n",
       "    </tr>\n",
       "</table>"
      ],
      "text/plain": [
       "[('table', 'sqlite_sequence', 'sqlite_sequence', 3, 'CREATE TABLE sqlite_sequence(name,seq)'),\n",
       " ('table', 'facts', 'facts', 47, 'CREATE TABLE \"facts\" (\"id\" INTEGER PRIMARY KEY AUTOINCREMENT NOT NULL, \"code\" varchar(255) NOT NULL, \"name\" varchar(255) NOT NULL, \"area\" integer, \"a ... (4 characters truncated) ... land\" integer, \"area_water\" integer, \"population\" integer, \"population_growth\" float, \"birth_rate\" float, \"death_rate\" float, \"migration_rate\" float)')]"
      ]
     },
     "execution_count": 130,
     "metadata": {},
     "output_type": "execute_result"
    }
   ],
   "source": [
    "%%sql\n",
    "SELECT *\n",
    "    FROM sqlite_master\n",
    "    WHERE type='table';"
   ]
  },
  {
   "cell_type": "markdown",
   "id": "1a122070-0a6d-42ed-9b38-1861ce3cae24",
   "metadata": {},
   "source": [
    "Looks like there are two tables within this database. We'll be working only with the `facts` table in this project. Let's display the first five rows of the `facts` table, to ensure we can access it properly."
   ]
  },
  {
   "cell_type": "code",
   "execution_count": 131,
   "id": "8e01a1e8-9db1-4dcc-a4bf-3566b5294a77",
   "metadata": {},
   "outputs": [
    {
     "name": "stdout",
     "output_type": "stream",
     "text": [
      " * sqlite:///factbook.db\n",
      "Done.\n"
     ]
    },
    {
     "data": {
      "text/html": [
       "<table>\n",
       "    <tr>\n",
       "        <th>id</th>\n",
       "        <th>code</th>\n",
       "        <th>name</th>\n",
       "        <th>area</th>\n",
       "        <th>area_land</th>\n",
       "        <th>area_water</th>\n",
       "        <th>population</th>\n",
       "        <th>population_growth</th>\n",
       "        <th>birth_rate</th>\n",
       "        <th>death_rate</th>\n",
       "        <th>migration_rate</th>\n",
       "    </tr>\n",
       "    <tr>\n",
       "        <td>1</td>\n",
       "        <td>af</td>\n",
       "        <td>Afghanistan</td>\n",
       "        <td>652230</td>\n",
       "        <td>652230</td>\n",
       "        <td>0</td>\n",
       "        <td>32564342</td>\n",
       "        <td>2.32</td>\n",
       "        <td>38.57</td>\n",
       "        <td>13.89</td>\n",
       "        <td>1.51</td>\n",
       "    </tr>\n",
       "    <tr>\n",
       "        <td>2</td>\n",
       "        <td>al</td>\n",
       "        <td>Albania</td>\n",
       "        <td>28748</td>\n",
       "        <td>27398</td>\n",
       "        <td>1350</td>\n",
       "        <td>3029278</td>\n",
       "        <td>0.3</td>\n",
       "        <td>12.92</td>\n",
       "        <td>6.58</td>\n",
       "        <td>3.3</td>\n",
       "    </tr>\n",
       "    <tr>\n",
       "        <td>3</td>\n",
       "        <td>ag</td>\n",
       "        <td>Algeria</td>\n",
       "        <td>2381741</td>\n",
       "        <td>2381741</td>\n",
       "        <td>0</td>\n",
       "        <td>39542166</td>\n",
       "        <td>1.84</td>\n",
       "        <td>23.67</td>\n",
       "        <td>4.31</td>\n",
       "        <td>0.92</td>\n",
       "    </tr>\n",
       "    <tr>\n",
       "        <td>4</td>\n",
       "        <td>an</td>\n",
       "        <td>Andorra</td>\n",
       "        <td>468</td>\n",
       "        <td>468</td>\n",
       "        <td>0</td>\n",
       "        <td>85580</td>\n",
       "        <td>0.12</td>\n",
       "        <td>8.13</td>\n",
       "        <td>6.96</td>\n",
       "        <td>0.0</td>\n",
       "    </tr>\n",
       "    <tr>\n",
       "        <td>5</td>\n",
       "        <td>ao</td>\n",
       "        <td>Angola</td>\n",
       "        <td>1246700</td>\n",
       "        <td>1246700</td>\n",
       "        <td>0</td>\n",
       "        <td>19625353</td>\n",
       "        <td>2.78</td>\n",
       "        <td>38.78</td>\n",
       "        <td>11.49</td>\n",
       "        <td>0.46</td>\n",
       "    </tr>\n",
       "</table>"
      ],
      "text/plain": [
       "[(1, 'af', 'Afghanistan', 652230, 652230, 0, 32564342, 2.32, 38.57, 13.89, 1.51),\n",
       " (2, 'al', 'Albania', 28748, 27398, 1350, 3029278, 0.3, 12.92, 6.58, 3.3),\n",
       " (3, 'ag', 'Algeria', 2381741, 2381741, 0, 39542166, 1.84, 23.67, 4.31, 0.92),\n",
       " (4, 'an', 'Andorra', 468, 468, 0, 85580, 0.12, 8.13, 6.96, 0.0),\n",
       " (5, 'ao', 'Angola', 1246700, 1246700, 0, 19625353, 2.78, 38.78, 11.49, 0.46)]"
      ]
     },
     "execution_count": 131,
     "metadata": {},
     "output_type": "execute_result"
    }
   ],
   "source": [
    "%%sql\n",
    "SELECT *\n",
    "    FROM facts\n",
    "    LIMIT 5"
   ]
  },
  {
   "cell_type": "markdown",
   "id": "b4f36c75-6124-49af-856d-9212fef35f4a",
   "metadata": {},
   "source": [
    "## 2. Data Analysis\n",
    "In the following sections we'll be digging into the data by coming up with (and answering) some questions about the data"
   ]
  },
  {
   "cell_type": "markdown",
   "id": "defdd395-6fd8-4af9-a665-a48bc7f392b3",
   "metadata": {
    "tags": []
   },
   "source": [
    "### 2.1 - What is the minimum and maximum population and population growth in the data?"
   ]
  },
  {
   "cell_type": "code",
   "execution_count": 132,
   "id": "0fa5bc36-39df-497a-bc28-170188b8abf3",
   "metadata": {},
   "outputs": [
    {
     "name": "stdout",
     "output_type": "stream",
     "text": [
      " * sqlite:///factbook.db\n",
      "Done.\n"
     ]
    },
    {
     "data": {
      "text/html": [
       "<table>\n",
       "    <tr>\n",
       "        <th>MIN(&quot;population&quot;)</th>\n",
       "        <th>MAX(&quot;population&quot;)</th>\n",
       "        <th>MIN(&quot;population_growth&quot;)</th>\n",
       "        <th>MAX(&quot;population_growth&quot;)</th>\n",
       "    </tr>\n",
       "    <tr>\n",
       "        <td>0</td>\n",
       "        <td>7256490011</td>\n",
       "        <td>0.0</td>\n",
       "        <td>4.02</td>\n",
       "    </tr>\n",
       "</table>"
      ],
      "text/plain": [
       "[(0, 7256490011, 0.0, 4.02)]"
      ]
     },
     "execution_count": 132,
     "metadata": {},
     "output_type": "execute_result"
    }
   ],
   "source": [
    "%%sql\n",
    "SELECT MIN(\"population\"),MAX(\"population\"),MIN(\"population_growth\"),MAX(\"population_growth\")\n",
    "    FROM facts"
   ]
  },
  {
   "cell_type": "markdown",
   "id": "23c28ab7-b16c-459a-a6ea-0d24c1ea8bff",
   "metadata": {},
   "source": [
    "Looks like the maximum population of a country is about 7.2 billion people (which is about the population of the whole world). Something about this entry seems off, so let's take a deeper look later."
   ]
  },
  {
   "cell_type": "markdown",
   "id": "e03f6544-e941-4746-bc05-5fc4effa958c",
   "metadata": {
    "jp-MarkdownHeadingCollapsed": true,
    "tags": []
   },
   "source": [
    "#### 2.1.1 - What country has the minimum population?"
   ]
  },
  {
   "cell_type": "code",
   "execution_count": 133,
   "id": "dfe378ab-58f3-4de5-9871-399ffdeb1a1c",
   "metadata": {},
   "outputs": [
    {
     "name": "stdout",
     "output_type": "stream",
     "text": [
      " * sqlite:///factbook.db\n",
      "Done.\n"
     ]
    },
    {
     "data": {
      "text/html": [
       "<table>\n",
       "    <tr>\n",
       "        <th>name</th>\n",
       "        <th>population</th>\n",
       "    </tr>\n",
       "    <tr>\n",
       "        <td>Antarctica</td>\n",
       "        <td>0</td>\n",
       "    </tr>\n",
       "</table>"
      ],
      "text/plain": [
       "[('Antarctica', 0)]"
      ]
     },
     "execution_count": 133,
     "metadata": {},
     "output_type": "execute_result"
    }
   ],
   "source": [
    "%%sql\n",
    "SELECT \"name\",\"population\"\n",
    "    FROM facts\n",
    "    WHERE \"population\" = (SELECT MIN(\"population\")\n",
    "                              FROM facts);"
   ]
  },
  {
   "cell_type": "markdown",
   "id": "8e30db26-1231-4cdb-b939-aafc85a5d61a",
   "metadata": {
    "tags": []
   },
   "source": [
    "#### 2.1.2 - What country has the maximum population?\n",
    "Earlier we saw a country with ~7.2 billion people as its population. Let's take a deeper look by first identifying this country."
   ]
  },
  {
   "cell_type": "code",
   "execution_count": 134,
   "id": "837af901-840d-4083-912e-f395826b5753",
   "metadata": {},
   "outputs": [
    {
     "name": "stdout",
     "output_type": "stream",
     "text": [
      " * sqlite:///factbook.db\n",
      "Done.\n"
     ]
    },
    {
     "data": {
      "text/html": [
       "<table>\n",
       "    <tr>\n",
       "        <th>name</th>\n",
       "        <th>population</th>\n",
       "    </tr>\n",
       "    <tr>\n",
       "        <td>World</td>\n",
       "        <td>7256490011</td>\n",
       "    </tr>\n",
       "</table>"
      ],
      "text/plain": [
       "[('World', 7256490011)]"
      ]
     },
     "execution_count": 134,
     "metadata": {},
     "output_type": "execute_result"
    }
   ],
   "source": [
    "%%sql\n",
    "SELECT \"name\",\"population\"\n",
    "    FROM facts\n",
    "    WHERE \"population\" = (SELECT MAX(\"population\")\n",
    "                              FROM facts);"
   ]
  },
  {
   "cell_type": "markdown",
   "id": "a16a5a44-209d-4b0f-b38c-e59acb6fdd39",
   "metadata": {},
   "source": [
    "Looks like our `facts` table has an entry for the entire world, and that's the entry that is being problematic. We'll need to re-examine the question of \"What is the highest population in a country\" while excluding this entry, but first let's look at the entire entry for \"World\""
   ]
  },
  {
   "cell_type": "code",
   "execution_count": 135,
   "id": "7250c1de-8c71-4793-b7bf-bc0e8a27da63",
   "metadata": {},
   "outputs": [
    {
     "name": "stdout",
     "output_type": "stream",
     "text": [
      " * sqlite:///factbook.db\n",
      "Done.\n"
     ]
    },
    {
     "data": {
      "text/html": [
       "<table>\n",
       "    <tr>\n",
       "        <th>id</th>\n",
       "        <th>code</th>\n",
       "        <th>name</th>\n",
       "        <th>area</th>\n",
       "        <th>area_land</th>\n",
       "        <th>area_water</th>\n",
       "        <th>population</th>\n",
       "        <th>population_growth</th>\n",
       "        <th>birth_rate</th>\n",
       "        <th>death_rate</th>\n",
       "        <th>migration_rate</th>\n",
       "    </tr>\n",
       "    <tr>\n",
       "        <td>261</td>\n",
       "        <td>xx</td>\n",
       "        <td>World</td>\n",
       "        <td>None</td>\n",
       "        <td>None</td>\n",
       "        <td>None</td>\n",
       "        <td>7256490011</td>\n",
       "        <td>1.08</td>\n",
       "        <td>18.6</td>\n",
       "        <td>7.8</td>\n",
       "        <td>None</td>\n",
       "    </tr>\n",
       "</table>"
      ],
      "text/plain": [
       "[(261, 'xx', 'World', None, None, None, 7256490011, 1.08, 18.6, 7.8, None)]"
      ]
     },
     "execution_count": 135,
     "metadata": {},
     "output_type": "execute_result"
    }
   ],
   "source": [
    "%%sql\n",
    "SELECT *\n",
    "    FROM facts\n",
    "    WHERE \"name\" = 'World'"
   ]
  },
  {
   "cell_type": "markdown",
   "id": "61241226-1b5b-457a-a527-b3d738b40561",
   "metadata": {},
   "source": [
    "Now let's re-examine the highest population question."
   ]
  },
  {
   "cell_type": "markdown",
   "id": "1bc4ac9d-bd11-481e-8024-a23ed67baa51",
   "metadata": {
    "jp-MarkdownHeadingCollapsed": true,
    "tags": []
   },
   "source": [
    "####"
   ]
  },
  {
   "cell_type": "code",
   "execution_count": 136,
   "id": "c2898863-059f-4898-8554-a680a06c1ebc",
   "metadata": {},
   "outputs": [
    {
     "name": "stdout",
     "output_type": "stream",
     "text": [
      " * sqlite:///factbook.db\n",
      "Done.\n"
     ]
    },
    {
     "data": {
      "text/html": [
       "<table>\n",
       "    <tr>\n",
       "        <th>MIN(&quot;population&quot;)</th>\n",
       "        <th>MAX(&quot;population&quot;)</th>\n",
       "        <th>MIN(&quot;population_growth&quot;)</th>\n",
       "        <th>MAX(&quot;population_growth&quot;)</th>\n",
       "    </tr>\n",
       "    <tr>\n",
       "        <td>0</td>\n",
       "        <td>1367485388</td>\n",
       "        <td>0.0</td>\n",
       "        <td>4.02</td>\n",
       "    </tr>\n",
       "</table>"
      ],
      "text/plain": [
       "[(0, 1367485388, 0.0, 4.02)]"
      ]
     },
     "execution_count": 136,
     "metadata": {},
     "output_type": "execute_result"
    }
   ],
   "source": [
    "%%sql\n",
    "SELECT MIN(\"population\"),MAX(\"population\"),MIN(\"population_growth\"),MAX(\"population_growth\")\n",
    "    FROM facts\n",
    "    WHERE name != \"World\""
   ]
  },
  {
   "cell_type": "code",
   "execution_count": 137,
   "id": "afc1ccc5-c043-4f88-ac9d-6b91cea05fae",
   "metadata": {},
   "outputs": [
    {
     "name": "stdout",
     "output_type": "stream",
     "text": [
      " * sqlite:///factbook.db\n",
      "Done.\n"
     ]
    },
    {
     "data": {
      "text/html": [
       "<table>\n",
       "    <tr>\n",
       "        <th>name</th>\n",
       "        <th>population</th>\n",
       "    </tr>\n",
       "    <tr>\n",
       "        <td>China</td>\n",
       "        <td>1367485388</td>\n",
       "    </tr>\n",
       "</table>"
      ],
      "text/plain": [
       "[('China', 1367485388)]"
      ]
     },
     "execution_count": 137,
     "metadata": {},
     "output_type": "execute_result"
    }
   ],
   "source": [
    "%%sql\n",
    "SELECT \"name\",\"population\"\n",
    "    FROM facts\n",
    "    WHERE \"population\" = (SELECT MAX(\"population\")\n",
    "                              FROM facts\n",
    "                              WHERE \"name\" != \"World\")"
   ]
  },
  {
   "cell_type": "markdown",
   "id": "d1ac0dfe-b535-4b8b-93eb-0d86f63a35f1",
   "metadata": {},
   "source": [
    "That looks a lot better. China has the maximum population, at about 1.3 billion people."
   ]
  },
  {
   "cell_type": "markdown",
   "id": "1420d90d-c54a-4360-8d3a-16f102d34064",
   "metadata": {
    "jp-MarkdownHeadingCollapsed": true,
    "tags": []
   },
   "source": [
    "### 2.2 - What is the average population and average area of countries in the data?"
   ]
  },
  {
   "cell_type": "code",
   "execution_count": 138,
   "id": "ab1058f2-69c2-4d87-8e19-f89b75d1dc8b",
   "metadata": {},
   "outputs": [
    {
     "name": "stdout",
     "output_type": "stream",
     "text": [
      " * sqlite:///factbook.db\n",
      "Done.\n"
     ]
    },
    {
     "data": {
      "text/html": [
       "<table>\n",
       "    <tr>\n",
       "        <th>AVG(&quot;population&quot;)</th>\n",
       "        <th>AVG(&quot;area&quot;)</th>\n",
       "    </tr>\n",
       "    <tr>\n",
       "        <td>32242666.56846473</td>\n",
       "        <td>555093.546184739</td>\n",
       "    </tr>\n",
       "</table>"
      ],
      "text/plain": [
       "[(32242666.56846473, 555093.546184739)]"
      ]
     },
     "execution_count": 138,
     "metadata": {},
     "output_type": "execute_result"
    }
   ],
   "source": [
    "%%sql\n",
    "SELECT AVG(\"population\"), AVG(\"area\")\n",
    "    FROM facts\n",
    "    WHERE \"name\" != \"World\""
   ]
  },
  {
   "cell_type": "markdown",
   "id": "b2e98741-e8e0-413f-92eb-8e7dbaad0206",
   "metadata": {},
   "source": [
    "### 2.3 - What countries are most densely populated?"
   ]
  },
  {
   "cell_type": "markdown",
   "id": "225814c5-636f-46fd-84cb-39fc3f24b961",
   "metadata": {},
   "source": [
    "#### 2.3.1 - Define density (Part A)\n",
    "Let's find the most densely populated countries, defined as countries with:\n",
    "* Below average area and\n",
    "* Above average population"
   ]
  },
  {
   "cell_type": "code",
   "execution_count": 139,
   "id": "e1c75d15-85d4-493e-be9b-d59b2a34cc7b",
   "metadata": {},
   "outputs": [
    {
     "name": "stdout",
     "output_type": "stream",
     "text": [
      " * sqlite:///factbook.db\n",
      "Done.\n"
     ]
    },
    {
     "data": {
      "text/html": [
       "<table>\n",
       "    <tr>\n",
       "        <th>name</th>\n",
       "        <th>population</th>\n",
       "        <th>area</th>\n",
       "    </tr>\n",
       "    <tr>\n",
       "        <td>Bangladesh</td>\n",
       "        <td>168957745</td>\n",
       "        <td>148460</td>\n",
       "    </tr>\n",
       "    <tr>\n",
       "        <td>Germany</td>\n",
       "        <td>80854408</td>\n",
       "        <td>357022</td>\n",
       "    </tr>\n",
       "    <tr>\n",
       "        <td>Iraq</td>\n",
       "        <td>37056169</td>\n",
       "        <td>438317</td>\n",
       "    </tr>\n",
       "    <tr>\n",
       "        <td>Italy</td>\n",
       "        <td>61855120</td>\n",
       "        <td>301340</td>\n",
       "    </tr>\n",
       "    <tr>\n",
       "        <td>Japan</td>\n",
       "        <td>126919659</td>\n",
       "        <td>377915</td>\n",
       "    </tr>\n",
       "    <tr>\n",
       "        <td>Korea, South</td>\n",
       "        <td>49115196</td>\n",
       "        <td>99720</td>\n",
       "    </tr>\n",
       "    <tr>\n",
       "        <td>Morocco</td>\n",
       "        <td>33322699</td>\n",
       "        <td>446550</td>\n",
       "    </tr>\n",
       "    <tr>\n",
       "        <td>Philippines</td>\n",
       "        <td>100998376</td>\n",
       "        <td>300000</td>\n",
       "    </tr>\n",
       "    <tr>\n",
       "        <td>Poland</td>\n",
       "        <td>38562189</td>\n",
       "        <td>312685</td>\n",
       "    </tr>\n",
       "    <tr>\n",
       "        <td>Spain</td>\n",
       "        <td>48146134</td>\n",
       "        <td>505370</td>\n",
       "    </tr>\n",
       "    <tr>\n",
       "        <td>Thailand</td>\n",
       "        <td>67976405</td>\n",
       "        <td>513120</td>\n",
       "    </tr>\n",
       "    <tr>\n",
       "        <td>Uganda</td>\n",
       "        <td>37101745</td>\n",
       "        <td>241038</td>\n",
       "    </tr>\n",
       "    <tr>\n",
       "        <td>United Kingdom</td>\n",
       "        <td>64088222</td>\n",
       "        <td>243610</td>\n",
       "    </tr>\n",
       "    <tr>\n",
       "        <td>Vietnam</td>\n",
       "        <td>94348835</td>\n",
       "        <td>331210</td>\n",
       "    </tr>\n",
       "</table>"
      ],
      "text/plain": [
       "[('Bangladesh', 168957745, 148460),\n",
       " ('Germany', 80854408, 357022),\n",
       " ('Iraq', 37056169, 438317),\n",
       " ('Italy', 61855120, 301340),\n",
       " ('Japan', 126919659, 377915),\n",
       " ('Korea, South', 49115196, 99720),\n",
       " ('Morocco', 33322699, 446550),\n",
       " ('Philippines', 100998376, 300000),\n",
       " ('Poland', 38562189, 312685),\n",
       " ('Spain', 48146134, 505370),\n",
       " ('Thailand', 67976405, 513120),\n",
       " ('Uganda', 37101745, 241038),\n",
       " ('United Kingdom', 64088222, 243610),\n",
       " ('Vietnam', 94348835, 331210)]"
      ]
     },
     "execution_count": 139,
     "metadata": {},
     "output_type": "execute_result"
    }
   ],
   "source": [
    "%%sql\n",
    "SELECT \"name\",\"population\",\"area\"\n",
    "    FROM facts\n",
    "    WHERE (\"population\" > (SELECT AVG(\"population\") FROM facts\n",
    "                          WHERE \"name\" != \"World\"))\n",
    "    AND (\"area\" < (SELECT AVG(\"area\") FROM facts))"
   ]
  },
  {
   "cell_type": "markdown",
   "id": "071e1ccc-e0eb-47ec-9ce8-70cdced0bad9",
   "metadata": {},
   "source": [
    "#### 2.3.2 - Define density (Part B)\n",
    "Now let's find the most densely populated countries with density defined as the population divided by area."
   ]
  },
  {
   "cell_type": "code",
   "execution_count": 140,
   "id": "6a02a8d5-fe12-4c9a-a65d-f554436b35bf",
   "metadata": {},
   "outputs": [
    {
     "name": "stdout",
     "output_type": "stream",
     "text": [
      " * sqlite:///factbook.db\n",
      "Done.\n"
     ]
    },
    {
     "data": {
      "text/html": [
       "<table>\n",
       "    <tr>\n",
       "        <th>name</th>\n",
       "        <th>density</th>\n",
       "    </tr>\n",
       "    <tr>\n",
       "        <td>Macau</td>\n",
       "        <td>21168.964285714286</td>\n",
       "    </tr>\n",
       "    <tr>\n",
       "        <td>Monaco</td>\n",
       "        <td>15267.5</td>\n",
       "    </tr>\n",
       "    <tr>\n",
       "        <td>Singapore</td>\n",
       "        <td>8141.279770444763</td>\n",
       "    </tr>\n",
       "    <tr>\n",
       "        <td>Hong Kong</td>\n",
       "        <td>6445.041516245487</td>\n",
       "    </tr>\n",
       "    <tr>\n",
       "        <td>Gaza Strip</td>\n",
       "        <td>5191.819444444444</td>\n",
       "    </tr>\n",
       "    <tr>\n",
       "        <td>Gibraltar</td>\n",
       "        <td>4876.333333333333</td>\n",
       "    </tr>\n",
       "    <tr>\n",
       "        <td>Bahrain</td>\n",
       "        <td>1771.8592105263158</td>\n",
       "    </tr>\n",
       "    <tr>\n",
       "        <td>Maldives</td>\n",
       "        <td>1319.6409395973155</td>\n",
       "    </tr>\n",
       "    <tr>\n",
       "        <td>Malta</td>\n",
       "        <td>1310.01582278481</td>\n",
       "    </tr>\n",
       "    <tr>\n",
       "        <td>Bermuda</td>\n",
       "        <td>1299.9259259259259</td>\n",
       "    </tr>\n",
       "</table>"
      ],
      "text/plain": [
       "[('Macau', 21168.964285714286),\n",
       " ('Monaco', 15267.5),\n",
       " ('Singapore', 8141.279770444763),\n",
       " ('Hong Kong', 6445.041516245487),\n",
       " ('Gaza Strip', 5191.819444444444),\n",
       " ('Gibraltar', 4876.333333333333),\n",
       " ('Bahrain', 1771.8592105263158),\n",
       " ('Maldives', 1319.6409395973155),\n",
       " ('Malta', 1310.01582278481),\n",
       " ('Bermuda', 1299.9259259259259)]"
      ]
     },
     "execution_count": 140,
     "metadata": {},
     "output_type": "execute_result"
    }
   ],
   "source": [
    "%%sql\n",
    "SELECT \"name\",(CAST(\"population\" AS FLOAT)/CAST(\"area\" AS FLOAT)) AS \"density\"\n",
    "FROM facts\n",
    "WHERE (\"area\" != \"None\")\n",
    "AND (\"population\" != \"None\")\n",
    "ORDER BY \"density\" DESC\n",
    "LIMIT 10"
   ]
  },
  {
   "cell_type": "markdown",
   "id": "d92a3466-6635-4af6-b08a-303280e56a41",
   "metadata": {},
   "source": [
    "Quite a different result. It looks like the most densely populated country here is Macau. I'm inclined to go with this definition of density, as our previoius definition assumes that:\n",
    "1. Countries with lower than average population have low densities as defined here\n",
    "2. Countries with larger than average area have low densities as defined here."
   ]
  },
  {
   "cell_type": "markdown",
   "id": "b785cfe8-883a-42a0-bfe0-82456c0f8d12",
   "metadata": {
    "tags": []
   },
   "source": [
    "### 2.4 - What country has the highest growth rate?"
   ]
  },
  {
   "cell_type": "code",
   "execution_count": 141,
   "id": "fdeb569c-e0f0-44b3-8c45-b2bcfdd2292f",
   "metadata": {},
   "outputs": [
    {
     "name": "stdout",
     "output_type": "stream",
     "text": [
      " * sqlite:///factbook.db\n",
      "Done.\n"
     ]
    },
    {
     "data": {
      "text/html": [
       "<table>\n",
       "    <tr>\n",
       "        <th>name</th>\n",
       "        <th>population_growth</th>\n",
       "    </tr>\n",
       "    <tr>\n",
       "        <td>South Sudan</td>\n",
       "        <td>4.02</td>\n",
       "    </tr>\n",
       "</table>"
      ],
      "text/plain": [
       "[('South Sudan', 4.02)]"
      ]
     },
     "execution_count": 141,
     "metadata": {},
     "output_type": "execute_result"
    }
   ],
   "source": [
    "%%sql\n",
    "SELECT \"name\",\"population_growth\"\n",
    "    FROM facts\n",
    "    WHERE \"population_growth\" = (SELECT MAX(\"population_growth\")\n",
    "                               FROM facts)"
   ]
  },
  {
   "cell_type": "markdown",
   "id": "378d0cad-ba75-4fea-b4c3-ea2585c3027b",
   "metadata": {},
   "source": [
    "Looks like South Sudan has the highest growth rate, with 4.02 people for every 1000."
   ]
  },
  {
   "cell_type": "markdown",
   "id": "aff39b08-05cc-4afa-86ff-a864d128fee2",
   "metadata": {},
   "source": [
    "### 2.5 - Which countries have the highest ratios of water to land?"
   ]
  },
  {
   "cell_type": "code",
   "execution_count": 142,
   "id": "3f39ecdd-0ede-4926-8264-1af91d2207ce",
   "metadata": {},
   "outputs": [
    {
     "name": "stdout",
     "output_type": "stream",
     "text": [
      " * sqlite:///factbook.db\n",
      "Done.\n"
     ]
    },
    {
     "data": {
      "text/html": [
       "<table>\n",
       "    <tr>\n",
       "        <th>name</th>\n",
       "        <th>water_land_ratio</th>\n",
       "    </tr>\n",
       "    <tr>\n",
       "        <td>British Indian Ocean Territory</td>\n",
       "        <td>905.6666666666666</td>\n",
       "    </tr>\n",
       "    <tr>\n",
       "        <td>Virgin Islands</td>\n",
       "        <td>4.520231213872832</td>\n",
       "    </tr>\n",
       "    <tr>\n",
       "        <td>Puerto Rico</td>\n",
       "        <td>0.5547914317925592</td>\n",
       "    </tr>\n",
       "    <tr>\n",
       "        <td>Bahamas, The</td>\n",
       "        <td>0.3866133866133866</td>\n",
       "    </tr>\n",
       "    <tr>\n",
       "        <td>Guinea-Bissau</td>\n",
       "        <td>0.2846728307254623</td>\n",
       "    </tr>\n",
       "</table>"
      ],
      "text/plain": [
       "[('British Indian Ocean Territory', 905.6666666666666),\n",
       " ('Virgin Islands', 4.520231213872832),\n",
       " ('Puerto Rico', 0.5547914317925592),\n",
       " ('Bahamas, The', 0.3866133866133866),\n",
       " ('Guinea-Bissau', 0.2846728307254623)]"
      ]
     },
     "execution_count": 142,
     "metadata": {},
     "output_type": "execute_result"
    }
   ],
   "source": [
    "%%sql\n",
    "SELECT \"name\",(CAST(\"area_water\" AS FLOAT)/CAST(\"area_land\" AS FLOAT)) AS \"water_land_ratio\"\n",
    "    FROM facts\n",
    "    ORDER BY \"water_land_ratio\" DESC\n",
    "    LIMIT 5"
   ]
  },
  {
   "cell_type": "markdown",
   "id": "67242e67-6089-4895-ad8f-2ba828998943",
   "metadata": {},
   "source": [
    "The countries with the highest ratios of water to land (i.e countries which have a significant part of their area covered by water), are:\n",
    "1. British Indian Ocean Territory\n",
    "2. Virgin Islands\n",
    "3. Puerto Rico\n",
    "4. The Bahamas\n",
    "5. Guinea-Bissau\n",
    "\n",
    "A lot of these nations are surrounded by water, so this makes sense."
   ]
  },
  {
   "cell_type": "markdown",
   "id": "aa6cb694-b155-435b-b862-ea4bacbc6fbf",
   "metadata": {},
   "source": [
    "### 2.6 - Which countries have more water than land?"
   ]
  },
  {
   "cell_type": "code",
   "execution_count": 143,
   "id": "ab1518b4-5f5b-4095-8db6-e011505f8511",
   "metadata": {},
   "outputs": [
    {
     "name": "stdout",
     "output_type": "stream",
     "text": [
      " * sqlite:///factbook.db\n",
      "Done.\n"
     ]
    },
    {
     "data": {
      "text/html": [
       "<table>\n",
       "    <tr>\n",
       "        <th>name</th>\n",
       "        <th>water_land_ratio</th>\n",
       "    </tr>\n",
       "    <tr>\n",
       "        <td>British Indian Ocean Territory</td>\n",
       "        <td>905.6666666666666</td>\n",
       "    </tr>\n",
       "    <tr>\n",
       "        <td>Virgin Islands</td>\n",
       "        <td>4.520231213872832</td>\n",
       "    </tr>\n",
       "</table>"
      ],
      "text/plain": [
       "[('British Indian Ocean Territory', 905.6666666666666),\n",
       " ('Virgin Islands', 4.520231213872832)]"
      ]
     },
     "execution_count": 143,
     "metadata": {},
     "output_type": "execute_result"
    }
   ],
   "source": [
    "%%sql\n",
    "SELECT \"name\",(CAST(\"area_water\" AS FLOAT)/CAST(\"area_land\" AS FLOAT)) AS \"water_land_ratio\"\n",
    "    FROM facts\n",
    "    WHERE \"water_land_ratio\" > 1\n",
    "    ORDER BY \"water_land_ratio\" DESC\n",
    "    LIMIT 5"
   ]
  },
  {
   "cell_type": "markdown",
   "id": "0014834e-4bff-47ba-a8b5-a730fc8a537d",
   "metadata": {},
   "source": [
    "The British Indian Ocean Territory as well as the Virgin Islands are the only two nations in this database (which I believe is quite exhaustive) that have more water than land area. Makes sense that the nations would be majorly comprised of island nations."
   ]
  },
  {
   "cell_type": "markdown",
   "id": "906e718c-a272-4614-97d9-47c726ec492e",
   "metadata": {},
   "source": [
    "### 2.7 - Which countries will add the most people to their populations next year?\n",
    "\n",
    "In other words, which countries have the highest `population_growth`? We already know the country with the highest population growth rate (South Sudan). Let's find the top five."
   ]
  },
  {
   "cell_type": "code",
   "execution_count": 144,
   "id": "e70d2d41-afd9-4684-8163-4c5bb8994d5e",
   "metadata": {},
   "outputs": [
    {
     "name": "stdout",
     "output_type": "stream",
     "text": [
      " * sqlite:///factbook.db\n",
      "Done.\n"
     ]
    },
    {
     "data": {
      "text/html": [
       "<table>\n",
       "    <tr>\n",
       "        <th>name</th>\n",
       "        <th>population_growth</th>\n",
       "    </tr>\n",
       "    <tr>\n",
       "        <td>South Sudan</td>\n",
       "        <td>4.02</td>\n",
       "    </tr>\n",
       "    <tr>\n",
       "        <td>Malawi</td>\n",
       "        <td>3.32</td>\n",
       "    </tr>\n",
       "    <tr>\n",
       "        <td>Burundi</td>\n",
       "        <td>3.28</td>\n",
       "    </tr>\n",
       "    <tr>\n",
       "        <td>Niger</td>\n",
       "        <td>3.25</td>\n",
       "    </tr>\n",
       "    <tr>\n",
       "        <td>Uganda</td>\n",
       "        <td>3.24</td>\n",
       "    </tr>\n",
       "</table>"
      ],
      "text/plain": [
       "[('South Sudan', 4.02),\n",
       " ('Malawi', 3.32),\n",
       " ('Burundi', 3.28),\n",
       " ('Niger', 3.25),\n",
       " ('Uganda', 3.24)]"
      ]
     },
     "execution_count": 144,
     "metadata": {},
     "output_type": "execute_result"
    }
   ],
   "source": [
    "%%sql\n",
    "SELECT \"name\",\"population_growth\"\n",
    "    FROM facts\n",
    "    ORDER BY \"population_growth\" DESC\n",
    "    LIMIT 5"
   ]
  },
  {
   "cell_type": "markdown",
   "id": "c3c09121-87e9-439e-8f6a-d38d5a7fc025",
   "metadata": {},
   "source": [
    "The countries with the top five population growth rates are (in descending order):\n",
    "1. South Sudan\n",
    "2. Malawi\n",
    "3. Burundi\n",
    "4. Niger\n",
    "5. Uganda\n",
    "\n",
    "It is interesting that the countries with the highest growth rates are concentrated in Africa. This could be something interesting to dig into...good news is at least these countries are not among the top 10 most densely populated in the World. Perhaps it's worth investigating if they're even in the top 50% of dense countries."
   ]
  },
  {
   "cell_type": "markdown",
   "id": "13966935-a778-4a96-b10f-e42ab40ef658",
   "metadata": {},
   "source": [
    "#### 2.7.1 - Countries with risk of overpopulation\n",
    "\n",
    "Let's answer the question: of the top 5 countries with highest `population_growth`, which of them already in the top 50% of countries for population density?"
   ]
  },
  {
   "cell_type": "code",
   "execution_count": 145,
   "id": "52fdf69b-84b2-440e-8335-060855973793",
   "metadata": {},
   "outputs": [
    {
     "name": "stdout",
     "output_type": "stream",
     "text": [
      " * sqlite:///factbook.db\n",
      "Done.\n",
      "Done.\n",
      "Done.\n"
     ]
    },
    {
     "data": {
      "text/html": [
       "<table>\n",
       "    <tr>\n",
       "        <th>name</th>\n",
       "    </tr>\n",
       "    <tr>\n",
       "        <td>Burundi</td>\n",
       "    </tr>\n",
       "    <tr>\n",
       "        <td>Malawi</td>\n",
       "    </tr>\n",
       "    <tr>\n",
       "        <td>Uganda</td>\n",
       "    </tr>\n",
       "</table>"
      ],
      "text/plain": [
       "[('Burundi',), ('Malawi',), ('Uganda',)]"
      ]
     },
     "execution_count": 145,
     "metadata": {},
     "output_type": "execute_result"
    }
   ],
   "source": [
    "%%sql\n",
    "CREATE VIEW top_n_density AS\n",
    "    SELECT \"name\"\n",
    "    FROM (SELECT \"name\", (CAST(\"population\" AS FLOAT))/(CAST(\"area\" AS FLOAT)) AS \"density\"\n",
    "          FROM facts\n",
    "          WHERE (\"population\" != \"None\")\n",
    "          AND (\"area\" != \"None\")\n",
    "          ORDER BY \"density\" DESC\n",
    "          LIMIT (SELECT COUNT(*)/2 FROM facts\n",
    "                WHERE \"name\" != \"World\")\n",
    "         )\n",
    ";\n",
    "    \n",
    "CREATE VIEW top_5_pop_growth AS\n",
    "    SELECT \"name\"\n",
    "    FROM facts\n",
    "    ORDER BY \"population_growth\" DESC\n",
    "    LIMIT 5\n",
    ";\n",
    "\n",
    "SELECT *\n",
    "FROM (\n",
    "    SELECT * FROM top_n_density INTERSECT SELECT * FROM top_5_pop_growth\n",
    ")"
   ]
  },
  {
   "cell_type": "code",
   "execution_count": 146,
   "id": "44849e58-57c6-4d72-8e5b-7d4309d6bd44",
   "metadata": {},
   "outputs": [
    {
     "name": "stdout",
     "output_type": "stream",
     "text": [
      " * sqlite:///factbook.db\n",
      "Done.\n",
      "Done.\n"
     ]
    },
    {
     "data": {
      "text/plain": [
       "[]"
      ]
     },
     "execution_count": 146,
     "metadata": {},
     "output_type": "execute_result"
    }
   ],
   "source": [
    "%%sql\n",
    "DROP VIEW top_n_density;\n",
    "DROP VIEW top_5_pop_growth"
   ]
  },
  {
   "cell_type": "markdown",
   "id": "02d5dbe3-fe1b-40fa-a57e-d6742268de9a",
   "metadata": {},
   "source": [
    "Looks like three of the top five highest population growth countries are among the top 50% most densely populated countries. And all three countries are in Africa. This might be the tip of the spear of a pattern. A next step could be to investigate whether African nations are disproportionately at risk for overpopulation compared to the rest of the world."
   ]
  },
  {
   "cell_type": "markdown",
   "id": "d8113b6d-e1e3-45cf-94f6-901929b060f3",
   "metadata": {},
   "source": [
    "### 2.8 - Which countries are at highest risk of underpopulation?\n",
    "\n",
    "Let's define countries at risk of underpopulation as countries with a higher death rate than birth rate."
   ]
  },
  {
   "cell_type": "code",
   "execution_count": 147,
   "id": "25e65316-567b-4ad5-904b-06350c695ba8",
   "metadata": {},
   "outputs": [
    {
     "name": "stdout",
     "output_type": "stream",
     "text": [
      " * sqlite:///factbook.db\n",
      "Done.\n"
     ]
    },
    {
     "data": {
      "text/html": [
       "<table>\n",
       "    <tr>\n",
       "        <th>name</th>\n",
       "        <th>birth_rate</th>\n",
       "        <th>death_rate</th>\n",
       "    </tr>\n",
       "    <tr>\n",
       "        <td>Bulgaria</td>\n",
       "        <td>8.92</td>\n",
       "        <td>14.44</td>\n",
       "    </tr>\n",
       "    <tr>\n",
       "        <td>Serbia</td>\n",
       "        <td>9.08</td>\n",
       "        <td>13.66</td>\n",
       "    </tr>\n",
       "    <tr>\n",
       "        <td>Latvia</td>\n",
       "        <td>10.0</td>\n",
       "        <td>14.31</td>\n",
       "    </tr>\n",
       "    <tr>\n",
       "        <td>Lithuania</td>\n",
       "        <td>10.1</td>\n",
       "        <td>14.27</td>\n",
       "    </tr>\n",
       "    <tr>\n",
       "        <td>Ukraine</td>\n",
       "        <td>10.72</td>\n",
       "        <td>14.46</td>\n",
       "    </tr>\n",
       "    <tr>\n",
       "        <td>Hungary</td>\n",
       "        <td>9.16</td>\n",
       "        <td>12.73</td>\n",
       "    </tr>\n",
       "    <tr>\n",
       "        <td>Germany</td>\n",
       "        <td>8.47</td>\n",
       "        <td>11.42</td>\n",
       "    </tr>\n",
       "    <tr>\n",
       "        <td>Slovenia</td>\n",
       "        <td>8.42</td>\n",
       "        <td>11.37</td>\n",
       "    </tr>\n",
       "    <tr>\n",
       "        <td>Romania</td>\n",
       "        <td>9.14</td>\n",
       "        <td>11.9</td>\n",
       "    </tr>\n",
       "    <tr>\n",
       "        <td>Croatia</td>\n",
       "        <td>9.45</td>\n",
       "        <td>12.18</td>\n",
       "    </tr>\n",
       "    <tr>\n",
       "        <td>Belarus</td>\n",
       "        <td>10.7</td>\n",
       "        <td>13.36</td>\n",
       "    </tr>\n",
       "    <tr>\n",
       "        <td>Monaco</td>\n",
       "        <td>6.65</td>\n",
       "        <td>9.24</td>\n",
       "    </tr>\n",
       "    <tr>\n",
       "        <td>Greece</td>\n",
       "        <td>8.66</td>\n",
       "        <td>11.09</td>\n",
       "    </tr>\n",
       "    <tr>\n",
       "        <td>Saint Pierre and Miquelon</td>\n",
       "        <td>7.42</td>\n",
       "        <td>9.72</td>\n",
       "    </tr>\n",
       "    <tr>\n",
       "        <td>Russia</td>\n",
       "        <td>11.6</td>\n",
       "        <td>13.69</td>\n",
       "    </tr>\n",
       "    <tr>\n",
       "        <td>Estonia</td>\n",
       "        <td>10.51</td>\n",
       "        <td>12.4</td>\n",
       "    </tr>\n",
       "    <tr>\n",
       "        <td>Portugal</td>\n",
       "        <td>9.27</td>\n",
       "        <td>11.02</td>\n",
       "    </tr>\n",
       "    <tr>\n",
       "        <td>Japan</td>\n",
       "        <td>7.93</td>\n",
       "        <td>9.51</td>\n",
       "    </tr>\n",
       "    <tr>\n",
       "        <td>Italy</td>\n",
       "        <td>8.74</td>\n",
       "        <td>10.19</td>\n",
       "    </tr>\n",
       "    <tr>\n",
       "        <td>Bosnia and Herzegovina</td>\n",
       "        <td>8.87</td>\n",
       "        <td>9.75</td>\n",
       "    </tr>\n",
       "    <tr>\n",
       "        <td>Czech Republic</td>\n",
       "        <td>9.63</td>\n",
       "        <td>10.34</td>\n",
       "    </tr>\n",
       "    <tr>\n",
       "        <td>Moldova</td>\n",
       "        <td>12.0</td>\n",
       "        <td>12.59</td>\n",
       "    </tr>\n",
       "    <tr>\n",
       "        <td>Poland</td>\n",
       "        <td>9.74</td>\n",
       "        <td>10.19</td>\n",
       "    </tr>\n",
       "    <tr>\n",
       "        <td>Austria</td>\n",
       "        <td>9.41</td>\n",
       "        <td>9.42</td>\n",
       "    </tr>\n",
       "</table>"
      ],
      "text/plain": [
       "[('Bulgaria', 8.92, 14.44),\n",
       " ('Serbia', 9.08, 13.66),\n",
       " ('Latvia', 10.0, 14.31),\n",
       " ('Lithuania', 10.1, 14.27),\n",
       " ('Ukraine', 10.72, 14.46),\n",
       " ('Hungary', 9.16, 12.73),\n",
       " ('Germany', 8.47, 11.42),\n",
       " ('Slovenia', 8.42, 11.37),\n",
       " ('Romania', 9.14, 11.9),\n",
       " ('Croatia', 9.45, 12.18),\n",
       " ('Belarus', 10.7, 13.36),\n",
       " ('Monaco', 6.65, 9.24),\n",
       " ('Greece', 8.66, 11.09),\n",
       " ('Saint Pierre and Miquelon', 7.42, 9.72),\n",
       " ('Russia', 11.6, 13.69),\n",
       " ('Estonia', 10.51, 12.4),\n",
       " ('Portugal', 9.27, 11.02),\n",
       " ('Japan', 7.93, 9.51),\n",
       " ('Italy', 8.74, 10.19),\n",
       " ('Bosnia and Herzegovina', 8.87, 9.75),\n",
       " ('Czech Republic', 9.63, 10.34),\n",
       " ('Moldova', 12.0, 12.59),\n",
       " ('Poland', 9.74, 10.19),\n",
       " ('Austria', 9.41, 9.42)]"
      ]
     },
     "execution_count": 147,
     "metadata": {},
     "output_type": "execute_result"
    }
   ],
   "source": [
    "%%sql\n",
    "SELECT \"name\",\"birth_rate\",\"death_rate\"\n",
    "    FROM facts\n",
    "    WHERE \"death_rate\" > \"birth_rate\"\n",
    "    ORDER BY (\"death_rate\" - \"birth_rate\") DESC"
   ]
  },
  {
   "cell_type": "code",
   "execution_count": 148,
   "id": "7f457245-73b9-447c-b2e1-5da994c448d8",
   "metadata": {},
   "outputs": [
    {
     "name": "stdout",
     "output_type": "stream",
     "text": [
      " * sqlite:///factbook.db\n",
      "Done.\n"
     ]
    },
    {
     "data": {
      "text/html": [
       "<table>\n",
       "    <tr>\n",
       "        <th>COUNT(*)</th>\n",
       "    </tr>\n",
       "    <tr>\n",
       "        <td>24</td>\n",
       "    </tr>\n",
       "</table>"
      ],
      "text/plain": [
       "[(24,)]"
      ]
     },
     "execution_count": 148,
     "metadata": {},
     "output_type": "execute_result"
    }
   ],
   "source": [
    "%%sql\n",
    "SELECT COUNT(*)\n",
    "    FROM facts\n",
    "    WHERE \"death_rate\" > \"birth_rate\"\n",
    "    ORDER BY (\"death_rate\" - \"birth_rate\") DESC"
   ]
  },
  {
   "cell_type": "markdown",
   "id": "f5fd698c-48ee-41df-aee8-1b869a326733",
   "metadata": {},
   "source": [
    "The 24 countries above have a death rate greater than their birth rate, and per our definition, are at a greater risk for underpopulation."
   ]
  },
  {
   "cell_type": "markdown",
   "id": "227f37da-2dcf-4fd3-a919-2c5d7af815de",
   "metadata": {},
   "source": [
    "In this project, we've used SQL to explore a dataset cataloging countries in their world by some select attributes. We answered a good couple questions, including\n",
    "* Which countries are at highest risk of overpopulation\n",
    "* Which countries are at highest risk of underpopulation\n",
    "\n",
    "A possible next step is to merge this dataset with a dataset that catalogs countries by their continent, and investigating if there is a trend of overpopulation in African countries, as we saw with three African countries above."
   ]
  },
  {
   "cell_type": "code",
   "execution_count": null,
   "id": "5965550a-645e-4263-a4df-df282048f00e",
   "metadata": {},
   "outputs": [],
   "source": []
  }
 ],
 "metadata": {
  "kernelspec": {
   "display_name": "Python 3 (ipykernel)",
   "language": "python",
   "name": "python3"
  },
  "language_info": {
   "codemirror_mode": {
    "name": "ipython",
    "version": 3
   },
   "file_extension": ".py",
   "mimetype": "text/x-python",
   "name": "python",
   "nbconvert_exporter": "python",
   "pygments_lexer": "ipython3",
   "version": "3.9.1"
  }
 },
 "nbformat": 4,
 "nbformat_minor": 5
}
